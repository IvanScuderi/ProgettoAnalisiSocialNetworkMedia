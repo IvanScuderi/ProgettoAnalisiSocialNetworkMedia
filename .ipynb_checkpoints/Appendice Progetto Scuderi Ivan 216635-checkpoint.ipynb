{
 "cells": [
  {
   "cell_type": "markdown",
   "id": "dae4b416",
   "metadata": {},
   "source": [
    "<img src=\"image/dimeslogo.png\" width=\"350\" height=\"350\" align=\"left\"/>"
   ]
  },
  {
   "cell_type": "markdown",
   "id": "1a0f82ef",
   "metadata": {},
   "source": [
    "<h1><center>Progetto Esame:\n",
    "<h1><center>Analisi di Social Network e Media"
   ]
  },
  {
   "cell_type": "markdown",
   "id": "255681f8",
   "metadata": {},
   "source": [
    "# Candidato: Scuderi Ivan 216635"
   ]
  },
  {
   "cell_type": "markdown",
   "id": "493a19cb",
   "metadata": {},
   "source": [
    "# Appendice"
   ]
  },
  {
   "cell_type": "markdown",
   "id": "1d0dfe3b",
   "metadata": {},
   "source": [
    "Nella seguente appendice si andrà ad analizzare la capacità dell'architettura __BERT__ di riconoscere la tipologia di contenuto dei record. In particolare si andranno a selezionare porzioni uniformi di dati da ognuna delle tre collezioni impiegate nell'analisi principale, etichettandole in base all'insieme da cui provengono.L'obiettivo sarà quello di risolvere un problema di classificazione multi-classe sul dataset bilanciato risultante. \\\n",
    "Scelta progettuale è stata quella di costruire il nuovo training set andando ad utilizzare le prime dieci mila entry dai tre insiemi di _train_, mentre si impiegano i primi mille record dei tre _test set_ per ottenere l'insieme di _test_."
   ]
  },
  {
   "cell_type": "markdown",
   "id": "4bad241c",
   "metadata": {},
   "source": [
    "# Import preliminari"
   ]
  },
  {
   "cell_type": "code",
   "execution_count": 1,
   "id": "2e134391",
   "metadata": {},
   "outputs": [
    {
     "data": {
      "text/plain": [
       "<Figure size 432x288 with 0 Axes>"
      ]
     },
     "metadata": {},
     "output_type": "display_data"
    }
   ],
   "source": [
    "# librerie di base per il caricamento, manipolazione e visualizzazione dei dati\n",
    "import numpy as np\n",
    "import pandas as pd\n",
    "import matplotlib.pyplot as plt\n",
    "%matplotlib inline\n",
    "import seaborn as sns\n",
    "import os\n",
    "import pickle\n",
    "\n",
    "# librerie per la costruzione dei modelli di Deep Learning\n",
    "import tensorflow as tf\n",
    "from tensorflow import keras\n",
    "\n",
    "# librerie per l'utilizzo dell'architettura transformers BERT\n",
    "from transformers import BertTokenizerFast\n",
    "from transformers import TFBertModel\n",
    "\n",
    "# metriche di valutazione dei modelli\n",
    "from sklearn.metrics import accuracy_score\n",
    "from sklearn.metrics import classification_report, confusion_matrix\n",
    "from sklearn.preprocessing import OneHotEncoder\n",
    "from sklearn.model_selection import train_test_split\n",
    "\n",
    "# path \n",
    "PREPROC_DIR = r'.\\preproc'\n",
    "DUMP_DIR = r'.\\dump'      \n",
    "\n",
    "# imposto un seed sui valori random per la riproducibilità dei risultati\n",
    "SEED = 44\n",
    "tf.keras.utils.set_random_seed(SEED)\n",
    "\n",
    "# imposto lo stile grafico dei plot\n",
    "sns.set_style(\"whitegrid\")\n",
    "sns.despine()\n",
    "plt.style.use(\"seaborn-whitegrid\")\n",
    "plt.rc(\"figure\", autolayout=True)\n",
    "plt.rc(\"axes\", labelweight=\"bold\", labelsize=\"large\", titleweight=\"bold\", titlepad=10)\n",
    "\n",
    "# disabilito i warnings di jupyter\n",
    "import warnings\n",
    "from transformers import logging\n",
    "warnings.filterwarnings('ignore')\n",
    "logging.set_verbosity_error()"
   ]
  },
  {
   "cell_type": "code",
   "execution_count": 2,
   "id": "59a2c660",
   "metadata": {},
   "outputs": [],
   "source": [
    "# definisco dei metodi di utilità\n",
    "\n",
    "def hist_plot(history_dict, title):\n",
    "    acc = history_dict['categorical_accuracy']\n",
    "    val_acc = history_dict['val_categorical_accuracy']\n",
    "    loss = history_dict['loss']\n",
    "    val_loss = history_dict['val_loss']\n",
    "    e = range(1, len(acc) + 1)\n",
    "\n",
    "    fig = plt.figure(figsize=(10, 7))\n",
    "    ax1 = fig.add_subplot(1, 2, 1)\n",
    "    ax1.plot(e, acc, 'b', label='Training acc')\n",
    "    ax1.plot(e, val_acc, 'r-', label='Validation acc')\n",
    "    ax1.set_title('Accuracy Over Epochs')\n",
    "    ax1.set_xlabel('Epochs')\n",
    "    ax1.set_xticks(e)\n",
    "    ax1.set_ylabel('Accuracy')\n",
    "    ax1.legend(loc='lower right')\n",
    "\n",
    "    ax2 = fig.add_subplot(1, 2, 2)\n",
    "    ax2.plot(e, loss, 'c', label='Training loss')\n",
    "    ax2.plot(e, val_loss, 'g-', label='Validation loss')\n",
    "    ax2.set_title('Loss Over Epochs')\n",
    "    ax2.set_xlabel('Epochs')\n",
    "    ax2.set_xticks(e)\n",
    "    ax2.set_ylabel('Loss')\n",
    "    ax2.legend(loc='lower left')\n",
    "\n",
    "    fig.suptitle(title)\n",
    "    fig.tight_layout()\n",
    "    plt.show()\n",
    "    \n",
    "def conf_matrix(y, y_pred, title, labels): \n",
    "    fig, ax =plt.subplots(figsize=(6,6))\n",
    "    labels=labels\n",
    "    ax=sns.heatmap(confusion_matrix(y, y_pred), annot=True, cmap=\"Blues\", fmt='g', cbar=False, annot_kws={\"size\":25})\n",
    "    plt.title(title, fontsize=15)\n",
    "    ax.xaxis.set_ticklabels(labels, fontsize=12) \n",
    "    ax.yaxis.set_ticklabels(labels, fontsize=12, rotation=0)\n",
    "    ax.set_ylabel('Test', fontsize=15)\n",
    "    ax.set_xlabel('Predicted', fontsize=15)\n",
    "    plt.show()\n",
    "    \n",
    "def get_token(data, tokenizer, max_len): # metodo che permette la tokenizzazione\n",
    "    input_ids = [] \n",
    "    attention_masks = []\n",
    "    for i in range(len(data)):\n",
    "        encoded = tokenizer.encode_plus(data[i], \n",
    "                                        add_special_tokens=True, \n",
    "                                        max_length=max_len, \n",
    "                                        padding='max_length', # si effettua padding se la len del testo è inferiore al max\n",
    "                                        truncation=True, # si effettua truncation se la len del testo è superiore al max\n",
    "                                        return_attention_mask=True\n",
    "                                       )\n",
    "        \n",
    "        input_ids.append(encoded['input_ids'])\n",
    "        attention_masks.append(encoded['attention_mask'])    \n",
    "    return np.array(input_ids),np.array(attention_masks)"
   ]
  },
  {
   "cell_type": "markdown",
   "id": "ce610cdf",
   "metadata": {},
   "source": [
    "# Costruzione Dataset"
   ]
  },
  {
   "cell_type": "code",
   "execution_count": 3,
   "id": "53a6d3fd",
   "metadata": {},
   "outputs": [],
   "source": [
    "# twitter\n",
    "\n",
    "twitter_train = pd.read_csv(os.path.join(PREPROC_DIR, 'twitter_train.csv'))\n",
    "twitter_test = pd.read_csv(os.path.join(PREPROC_DIR, 'twitter_test.csv'))\n",
    "\n",
    "# imdb\n",
    "\n",
    "imdb_ds = pd.read_csv(os.path.join(PREPROC_DIR, 'imdb_ds.csv'))\n",
    "\n",
    "# emotion\n",
    "\n",
    "emotion_train = pd.read_csv(os.path.join(PREPROC_DIR, 'emotion_train.csv'))\n",
    "emotion_test = pd.read_csv(os.path.join(PREPROC_DIR, 'emotion_test.csv'))"
   ]
  },
  {
   "cell_type": "code",
   "execution_count": 4,
   "id": "53ba228a",
   "metadata": {},
   "outputs": [
    {
     "name": "stdout",
     "output_type": "stream",
     "text": [
      "Training Set:\n"
     ]
    },
    {
     "data": {
      "text/html": [
       "<div>\n",
       "<style scoped>\n",
       "    .dataframe tbody tr th:only-of-type {\n",
       "        vertical-align: middle;\n",
       "    }\n",
       "\n",
       "    .dataframe tbody tr th {\n",
       "        vertical-align: top;\n",
       "    }\n",
       "\n",
       "    .dataframe thead th {\n",
       "        text-align: right;\n",
       "    }\n",
       "</style>\n",
       "<table border=\"1\" class=\"dataframe\">\n",
       "  <thead>\n",
       "    <tr style=\"text-align: right;\">\n",
       "      <th></th>\n",
       "      <th>text</th>\n",
       "      <th>Sentiment</th>\n",
       "      <th>from</th>\n",
       "    </tr>\n",
       "  </thead>\n",
       "  <tbody>\n",
       "    <tr>\n",
       "      <th>0</th>\n",
       "      <td>but the trouble of this production is that its...</td>\n",
       "      <td>negative</td>\n",
       "      <td>imdb</td>\n",
       "    </tr>\n",
       "    <tr>\n",
       "      <th>1</th>\n",
       "      <td>hidden frontier is a fan made show in the worl...</td>\n",
       "      <td>positive</td>\n",
       "      <td>imdb</td>\n",
       "    </tr>\n",
       "    <tr>\n",
       "      <th>2</th>\n",
       "      <td>restaurants amp supermarkets that offer washin...</td>\n",
       "      <td>Neutral</td>\n",
       "      <td>tweet</td>\n",
       "    </tr>\n",
       "    <tr>\n",
       "      <th>3</th>\n",
       "      <td>i saw this movie at an actual movie theater pr...</td>\n",
       "      <td>negative</td>\n",
       "      <td>imdb</td>\n",
       "    </tr>\n",
       "    <tr>\n",
       "      <th>4</th>\n",
       "      <td>the state duma passed a law at third and last ...</td>\n",
       "      <td>Positive</td>\n",
       "      <td>tweet</td>\n",
       "    </tr>\n",
       "    <tr>\n",
       "      <th>...</th>\n",
       "      <td>...</td>\n",
       "      <td>...</td>\n",
       "      <td>...</td>\n",
       "    </tr>\n",
       "    <tr>\n",
       "      <th>29995</th>\n",
       "      <td>this is a very fine and poetic story beautiful...</td>\n",
       "      <td>positive</td>\n",
       "      <td>imdb</td>\n",
       "    </tr>\n",
       "    <tr>\n",
       "      <th>29996</th>\n",
       "      <td>i feel much gratitude and thanks for finally a...</td>\n",
       "      <td>love</td>\n",
       "      <td>emotion</td>\n",
       "    </tr>\n",
       "    <tr>\n",
       "      <th>29997</th>\n",
       "      <td>i would feel weird having my dads hand on my s...</td>\n",
       "      <td>surprise</td>\n",
       "      <td>emotion</td>\n",
       "    </tr>\n",
       "    <tr>\n",
       "      <th>29998</th>\n",
       "      <td>covid19 coronavirus pandemic washyourhands oka...</td>\n",
       "      <td>Negative</td>\n",
       "      <td>tweet</td>\n",
       "    </tr>\n",
       "    <tr>\n",
       "      <th>29999</th>\n",
       "      <td>if you were to judge based on the movie alone ...</td>\n",
       "      <td>negative</td>\n",
       "      <td>imdb</td>\n",
       "    </tr>\n",
       "  </tbody>\n",
       "</table>\n",
       "<p>30000 rows × 3 columns</p>\n",
       "</div>"
      ],
      "text/plain": [
       "                                                    text Sentiment     from\n",
       "0      but the trouble of this production is that its...  negative     imdb\n",
       "1      hidden frontier is a fan made show in the worl...  positive     imdb\n",
       "2      restaurants amp supermarkets that offer washin...   Neutral    tweet\n",
       "3      i saw this movie at an actual movie theater pr...  negative     imdb\n",
       "4      the state duma passed a law at third and last ...  Positive    tweet\n",
       "...                                                  ...       ...      ...\n",
       "29995  this is a very fine and poetic story beautiful...  positive     imdb\n",
       "29996  i feel much gratitude and thanks for finally a...      love  emotion\n",
       "29997  i would feel weird having my dads hand on my s...  surprise  emotion\n",
       "29998  covid19 coronavirus pandemic washyourhands oka...  Negative    tweet\n",
       "29999  if you were to judge based on the movie alone ...  negative     imdb\n",
       "\n",
       "[30000 rows x 3 columns]"
      ]
     },
     "execution_count": 4,
     "metadata": {},
     "output_type": "execute_result"
    }
   ],
   "source": [
    "N = 10000 # porzione di record da estrarre da ogni collezione\n",
    "\n",
    "part_tweet_train = twitter_train.head(N)\n",
    "part_tweet_train['from'] = 'tweet'\n",
    "part_tweet_train.rename(columns={'CleanTweet': 'text'}, inplace=True)\n",
    "\n",
    "part_imdb_train = imdb_ds.head(N)\n",
    "part_imdb_train['from'] = 'imdb'\n",
    "part_imdb_train.rename(columns={'CleanReview': 'text'}, inplace=True)\n",
    "\n",
    "part_em_train = emotion_train.head(N)\n",
    "part_em_train['from'] = 'emotion'\n",
    "part_em_train.rename(columns={'CleanText': 'text'}, inplace=True)\n",
    "\n",
    "training_set = pd.concat([part_tweet_train, part_imdb_train, part_em_train], axis=0) # unisco i dati\n",
    "training_set = training_set.sample(frac=1).reset_index(drop=True) # shuffle and reset index\n",
    "\n",
    "print('Training Set:')\n",
    "training_set"
   ]
  },
  {
   "cell_type": "code",
   "execution_count": 5,
   "id": "be75b5fd",
   "metadata": {},
   "outputs": [
    {
     "name": "stdout",
     "output_type": "stream",
     "text": [
      "Test Set:\n"
     ]
    },
    {
     "data": {
      "text/html": [
       "<div>\n",
       "<style scoped>\n",
       "    .dataframe tbody tr th:only-of-type {\n",
       "        vertical-align: middle;\n",
       "    }\n",
       "\n",
       "    .dataframe tbody tr th {\n",
       "        vertical-align: top;\n",
       "    }\n",
       "\n",
       "    .dataframe thead th {\n",
       "        text-align: right;\n",
       "    }\n",
       "</style>\n",
       "<table border=\"1\" class=\"dataframe\">\n",
       "  <thead>\n",
       "    <tr style=\"text-align: right;\">\n",
       "      <th></th>\n",
       "      <th>text</th>\n",
       "      <th>from</th>\n",
       "    </tr>\n",
       "  </thead>\n",
       "  <tbody>\n",
       "    <tr>\n",
       "      <th>0</th>\n",
       "      <td>i feel no positive regard</td>\n",
       "      <td>emotion</td>\n",
       "    </tr>\n",
       "    <tr>\n",
       "      <th>1</th>\n",
       "      <td>i feel unprotected even while travelling alone</td>\n",
       "      <td>emotion</td>\n",
       "    </tr>\n",
       "    <tr>\n",
       "      <th>2</th>\n",
       "      <td>i feel privileged to have played against him</td>\n",
       "      <td>emotion</td>\n",
       "    </tr>\n",
       "    <tr>\n",
       "      <th>3</th>\n",
       "      <td>on the whole one wishes this was a better film...</td>\n",
       "      <td>imdb</td>\n",
       "    </tr>\n",
       "    <tr>\n",
       "      <th>4</th>\n",
       "      <td>cdc urges elderly to stock up on food stay hom...</td>\n",
       "      <td>tweet</td>\n",
       "    </tr>\n",
       "    <tr>\n",
       "      <th>...</th>\n",
       "      <td>...</td>\n",
       "      <td>...</td>\n",
       "    </tr>\n",
       "    <tr>\n",
       "      <th>2995</th>\n",
       "      <td>this is a strong movie from a historical and e...</td>\n",
       "      <td>imdb</td>\n",
       "    </tr>\n",
       "    <tr>\n",
       "      <th>2996</th>\n",
       "      <td>consumer spending accounts for about of the u ...</td>\n",
       "      <td>tweet</td>\n",
       "    </tr>\n",
       "    <tr>\n",
       "      <th>2997</th>\n",
       "      <td>my wife and i saw this when we were the only g...</td>\n",
       "      <td>imdb</td>\n",
       "    </tr>\n",
       "    <tr>\n",
       "      <th>2998</th>\n",
       "      <td>coronavirus panic spreads costco is pulling fr...</td>\n",
       "      <td>tweet</td>\n",
       "    </tr>\n",
       "    <tr>\n",
       "      <th>2999</th>\n",
       "      <td>i will admit and it left me feeling shaken and...</td>\n",
       "      <td>emotion</td>\n",
       "    </tr>\n",
       "  </tbody>\n",
       "</table>\n",
       "<p>3000 rows × 2 columns</p>\n",
       "</div>"
      ],
      "text/plain": [
       "                                                   text     from\n",
       "0                             i feel no positive regard  emotion\n",
       "1        i feel unprotected even while travelling alone  emotion\n",
       "2          i feel privileged to have played against him  emotion\n",
       "3     on the whole one wishes this was a better film...     imdb\n",
       "4     cdc urges elderly to stock up on food stay hom...    tweet\n",
       "...                                                 ...      ...\n",
       "2995  this is a strong movie from a historical and e...     imdb\n",
       "2996  consumer spending accounts for about of the u ...    tweet\n",
       "2997  my wife and i saw this when we were the only g...     imdb\n",
       "2998  coronavirus panic spreads costco is pulling fr...    tweet\n",
       "2999  i will admit and it left me feeling shaken and...  emotion\n",
       "\n",
       "[3000 rows x 2 columns]"
      ]
     },
     "execution_count": 5,
     "metadata": {},
     "output_type": "execute_result"
    }
   ],
   "source": [
    "N = 1000 # record di test da estrarre dai test set\n",
    "\n",
    "part_tweet_test = twitter_test.head(N)\n",
    "part_tweet_test['from'] = 'tweet'\n",
    "part_tweet_test = part_tweet_test[['CleanTweet', 'from']]\n",
    "part_tweet_test.rename(columns={'CleanTweet': 'text'}, inplace=True)\n",
    "\n",
    "part_imdb_test = imdb_ds.tail(N) # siccome non si ha a disposizione un test set come dataframe per tale ds si usano le ultime mille\n",
    "part_imdb_test['from'] = 'imdb'\n",
    "part_imdb_test = part_imdb_test[['CleanReview', 'from']]\n",
    "part_imdb_test.rename(columns={'CleanReview': 'text'}, inplace=True)\n",
    "\n",
    "part_em_test = emotion_test.head(N)\n",
    "part_em_test['from'] = 'emotion'\n",
    "part_em_test = part_em_test[['CleanText', 'from']]\n",
    "part_em_test.rename(columns={'CleanText': 'text'}, inplace=True)\n",
    "\n",
    "test_set = pd.concat([part_tweet_test, part_imdb_test, part_em_test], axis=0) # unisco i dati\n",
    "test_set = test_set.sample(frac=1).reset_index(drop=True) # shuffle and reset index\n",
    "\n",
    "print('Test Set:')\n",
    "test_set"
   ]
  },
  {
   "cell_type": "markdown",
   "id": "f7ac9387",
   "metadata": {},
   "source": [
    "Andiamo a visualizzare alcune statistiche relative alla lunghezza dei record:"
   ]
  },
  {
   "cell_type": "code",
   "execution_count": 6,
   "id": "409a2e52",
   "metadata": {},
   "outputs": [
    {
     "name": "stdout",
     "output_type": "stream",
     "text": [
      "Statistice sulla lunghezza dei record nei due insiemi:\n"
     ]
    },
    {
     "data": {
      "text/html": [
       "<div>\n",
       "<style scoped>\n",
       "    .dataframe tbody tr th:only-of-type {\n",
       "        vertical-align: middle;\n",
       "    }\n",
       "\n",
       "    .dataframe tbody tr th {\n",
       "        vertical-align: top;\n",
       "    }\n",
       "\n",
       "    .dataframe thead th {\n",
       "        text-align: right;\n",
       "    }\n",
       "</style>\n",
       "<table border=\"1\" class=\"dataframe\">\n",
       "  <thead>\n",
       "    <tr style=\"text-align: right;\">\n",
       "      <th></th>\n",
       "      <th>mean</th>\n",
       "      <th>std</th>\n",
       "      <th>min</th>\n",
       "      <th>max</th>\n",
       "      <th>median</th>\n",
       "      <th>%25</th>\n",
       "      <th>%75</th>\n",
       "      <th>%90</th>\n",
       "    </tr>\n",
       "  </thead>\n",
       "  <tbody>\n",
       "    <tr>\n",
       "      <th>Training Set</th>\n",
       "      <td>93.143367</td>\n",
       "      <td>138.086262</td>\n",
       "      <td>4</td>\n",
       "      <td>1802</td>\n",
       "      <td>35.0</td>\n",
       "      <td>19.0</td>\n",
       "      <td>125.0</td>\n",
       "      <td>247.0</td>\n",
       "    </tr>\n",
       "    <tr>\n",
       "      <th>Test Set</th>\n",
       "      <td>92.613333</td>\n",
       "      <td>133.903226</td>\n",
       "      <td>4</td>\n",
       "      <td>1152</td>\n",
       "      <td>36.0</td>\n",
       "      <td>19.0</td>\n",
       "      <td>126.0</td>\n",
       "      <td>242.1</td>\n",
       "    </tr>\n",
       "  </tbody>\n",
       "</table>\n",
       "</div>"
      ],
      "text/plain": [
       "                   mean         std  min   max  median   %25    %75    %90\n",
       "Training Set  93.143367  138.086262    4  1802    35.0  19.0  125.0  247.0\n",
       "Test Set      92.613333  133.903226    4  1152    36.0  19.0  126.0  242.1"
      ]
     },
     "metadata": {},
     "output_type": "display_data"
    },
    {
     "data": {
      "image/png": "[encoded data removed]",
      "text/plain": [
       "<Figure size 1080x720 with 1 Axes>"
      ]
     },
     "metadata": {},
     "output_type": "display_data"
    },
    {
     "data": {
      "image/png": "[encoded data removed]",
      "text/plain": [
       "<Figure size 1080x720 with 1 Axes>"
      ]
     },
     "metadata": {},
     "output_type": "display_data"
    }
   ],
   "source": [
    "training_set['len'] = training_set['text'].apply(lambda x: len(x.split()))\n",
    "test_set['len'] = test_set['text'].apply(lambda x: len(x.split()))\n",
    "\n",
    "metriche = pd.DataFrame({'mean': [training_set['len'].mean(), test_set['len'].mean()],\n",
    "                         'std': [training_set['len'].std(), test_set['len'].std()],\n",
    "                         'min': [training_set['len'].min(), test_set['len'].min()],\n",
    "                         'max': [training_set['len'].max(), test_set['len'].max()],\n",
    "                         'median': [training_set['len'].median(), test_set['len'].median()],\n",
    "                         '%25': [training_set['len'].quantile(.25), test_set['len'].quantile(.25)],\n",
    "                         '%75': [training_set['len'].quantile(.75), test_set['len'].quantile(.75)],\n",
    "                         '%90': [training_set['len'].quantile(.9), test_set['len'].quantile(.9)]\n",
    "                        }, index=['Training Set', 'Test Set'])\n",
    "\n",
    "print('Statistice sulla lunghezza dei record nei due insiemi:')\n",
    "display(metriche)\n",
    "\n",
    "fig = plt.figure(figsize=(15,10))\n",
    "plt.title('Training Set')\n",
    "ax = sns.kdeplot(x='len', data=training_set)\n",
    "plt.xlabel('Lunghezza Record')\n",
    "plt.ylabel('Frequenza')\n",
    "plt.tight_layout()\n",
    "plt.show()\n",
    "\n",
    "fig = plt.figure(figsize=(15,10))\n",
    "plt.title('Test Set')\n",
    "ax = sns.kdeplot(x='len', data=test_set)\n",
    "plt.xlabel('Lunghezza Record')\n",
    "plt.ylabel('Frequenza')\n",
    "plt.tight_layout()\n",
    "plt.show()"
   ]
  },
  {
   "cell_type": "markdown",
   "id": "659c7397",
   "metadata": {},
   "source": [
    "Si può notare come la distribuzione della lunghezza delle parole sia molto simile tra i due insiemi di dati."
   ]
  },
  {
   "cell_type": "code",
   "execution_count": 7,
   "id": "f1012b10",
   "metadata": {},
   "outputs": [
    {
     "data": {
      "image/png": "[encoded data removed]",
      "text/plain": [
       "<Figure size 1080x720 with 1 Axes>"
      ]
     },
     "metadata": {},
     "output_type": "display_data"
    }
   ],
   "source": [
    "gb_mean = training_set.groupby('from')['len'].mean().round(2)\n",
    "gb_std = training_set.groupby('from')['len'].std().round(2)\n",
    "\n",
    "fig = plt.figure(figsize=(15, 10))\n",
    "axis = fig.add_subplot(111)\n",
    "w = 0.3\n",
    "x_ticks = np.arange(3) # numero di classi\n",
    "r1 = axis.bar(x_ticks-w, gb_mean.values, width=w, color='g', align='edge', label='Mean')\n",
    "r2 = axis.bar(x_ticks, gb_std.values, width=w, color='r', align='edge', label='Std')\n",
    "axis.set_title('Metriche Statistiche sulla Lunghezza dei Record nel Training Set')\n",
    "axis.set_ylabel('Valore')\n",
    "axis.set_xlabel('Provenienza')\n",
    "axis.set_xticks(x_ticks, ['emotion', 'imdb', 'tweet'])\n",
    "axis.legend(loc='upper right')\n",
    "axis.bar_label(r1, padding=1)\n",
    "axis.bar_label(r2, padding=1)\n",
    "fig.tight_layout()\n",
    "plt.show()"
   ]
  },
  {
   "cell_type": "markdown",
   "id": "d5b50594",
   "metadata": {},
   "source": [
    "Le metriche analizzate in base al dataset di provenienza risultano essere coerenti con i valori ottenuti nell'analisi precedente."
   ]
  },
  {
   "cell_type": "markdown",
   "id": "ca55e113",
   "metadata": {},
   "source": [
    "Completo le operazioni di preprocessing andando a costruire il validation set:"
   ]
  },
  {
   "cell_type": "code",
   "execution_count": 8,
   "id": "0151b1a3",
   "metadata": {},
   "outputs": [],
   "source": [
    "X_train, y_train = training_set['text'].values, training_set['from'].values\n",
    "x_test, y_test = test_set['text'].values, test_set['from'].values"
   ]
  },
  {
   "cell_type": "code",
   "execution_count": 9,
   "id": "a5736327",
   "metadata": {},
   "outputs": [],
   "source": [
    "x_train, x_valid, y_train, y_valid = train_test_split(X_train, y_train, test_size=0.15, stratify=y_train, random_state=SEED)"
   ]
  },
  {
   "cell_type": "code",
   "execution_count": 10,
   "id": "d182615c",
   "metadata": {},
   "outputs": [
    {
     "name": "stdout",
     "output_type": "stream",
     "text": [
      "Numero Elementi Training Set 25500\n",
      "Numero Elementi Validation Set 4500\n",
      "Numero Elementi Test Set 3000\n"
     ]
    }
   ],
   "source": [
    "print('Numero Elementi Training Set {}'.format(x_train.shape[0]))\n",
    "print('Numero Elementi Validation Set {}'.format(x_valid.shape[0]))\n",
    "print('Numero Elementi Test Set {}'.format(x_test.shape[0]))"
   ]
  },
  {
   "cell_type": "markdown",
   "id": "5970f85f",
   "metadata": {},
   "source": [
    "Applico il __BertTokenizer__ sui tre insiemi per ottenere i vettori di _id_ e _mask_:"
   ]
  },
  {
   "cell_type": "code",
   "execution_count": 11,
   "id": "8e1b746a",
   "metadata": {},
   "outputs": [],
   "source": [
    "bert_tokenizer = BertTokenizerFast.from_pretrained('bert-base-uncased')"
   ]
  },
  {
   "cell_type": "code",
   "execution_count": 12,
   "id": "fc24816f",
   "metadata": {},
   "outputs": [],
   "source": [
    "MAX_LEN = 200\n",
    "OUTPUT_LEN = 3\n",
    "EPOCHS = 3"
   ]
  },
  {
   "cell_type": "code",
   "execution_count": 13,
   "id": "f765943e",
   "metadata": {},
   "outputs": [],
   "source": [
    "x_train_ids, x_train_masks = get_token(x_train, bert_tokenizer, MAX_LEN)\n",
    "x_valid_ids, x_valid_masks = get_token(x_valid, bert_tokenizer, MAX_LEN)\n",
    "x_test_ids, x_test_masks = get_token(x_test, bert_tokenizer, MAX_LEN)"
   ]
  },
  {
   "cell_type": "markdown",
   "id": "dab2c4a8",
   "metadata": {},
   "source": [
    "Vado ad impiegare __OneHotEncoding__ sulle etichette di classe:"
   ]
  },
  {
   "cell_type": "code",
   "execution_count": 14,
   "id": "34065990",
   "metadata": {},
   "outputs": [],
   "source": [
    "o = OneHotEncoder()\n",
    "\n",
    "y_train = o.fit_transform(y_train.reshape(-1, 1)).toarray()\n",
    "y_valid = o.fit_transform(y_valid.reshape(-1, 1)).toarray()\n",
    "y_test = o.fit_transform(y_test.reshape(-1, 1)).toarray()"
   ]
  },
  {
   "cell_type": "markdown",
   "id": "2d03d8bc",
   "metadata": {},
   "source": [
    "Per la risoluzione di tale task vado ad impiegare il modello precedentemente sviluppato nell'analisi principale:"
   ]
  },
  {
   "cell_type": "code",
   "execution_count": 15,
   "id": "fa5592e2",
   "metadata": {},
   "outputs": [],
   "source": [
    "opt = tf.keras.optimizers.Adam(learning_rate=1e-5, decay=1e-7)\n",
    "loss = tf.keras.losses.CategoricalCrossentropy()\n",
    "accuracy = tf.keras.metrics.CategoricalAccuracy()\n",
    "    \n",
    "bert = TFBertModel.from_pretrained('bert-base-uncased')\n",
    "bert.trainable = True\n",
    "\n",
    "\n",
    "input_ids = tf.keras.Input(shape=(MAX_LEN,), dtype='int32')\n",
    "attention_masks = tf.keras.Input(shape=(MAX_LEN,), dtype='int32')\n",
    "    \n",
    "embeddings = bert([input_ids,attention_masks])[1]\n",
    "hidden = tf.keras.layers.Dense(16, activation=\"relu\")(embeddings)\n",
    "drop = tf.keras.layers.Dropout(.25)(hidden)\n",
    "output = tf.keras.layers.Dense(OUTPUT_LEN, activation=\"softmax\")(drop)\n",
    "    \n",
    "model = tf.keras.models.Model(inputs = [input_ids,attention_masks], outputs = output)\n",
    "model.compile(opt, loss=loss, metrics=accuracy)"
   ]
  },
  {
   "cell_type": "code",
   "execution_count": 16,
   "id": "cc03d5e0",
   "metadata": {},
   "outputs": [
    {
     "name": "stdout",
     "output_type": "stream",
     "text": [
      "Architettura di rete generale impiegata:\n",
      "\n",
      "Model: \"model\"\n",
      "__________________________________________________________________________________________________\n",
      " Layer (type)                   Output Shape         Param #     Connected to                     \n",
      "==================================================================================================\n",
      " input_1 (InputLayer)           [(None, 200)]        0           []                               \n",
      "                                                                                                  \n",
      " input_2 (InputLayer)           [(None, 200)]        0           []                               \n",
      "                                                                                                  \n",
      " tf_bert_model (TFBertModel)    TFBaseModelOutputWi  109482240   ['input_1[0][0]',                \n",
      "                                thPoolingAndCrossAt               'input_2[0][0]']                \n",
      "                                tentions(last_hidde                                               \n",
      "                                n_state=(None, 200,                                               \n",
      "                                 768),                                                            \n",
      "                                 pooler_output=(Non                                               \n",
      "                                e, 768),                                                          \n",
      "                                 past_key_values=No                                               \n",
      "                                ne, hidden_states=N                                               \n",
      "                                one, attentions=Non                                               \n",
      "                                e, cross_attentions                                               \n",
      "                                =None)                                                            \n",
      "                                                                                                  \n",
      " dense (Dense)                  (None, 16)           12304       ['tf_bert_model[0][1]']          \n",
      "                                                                                                  \n",
      " dropout_37 (Dropout)           (None, 16)           0           ['dense[0][0]']                  \n",
      "                                                                                                  \n",
      " dense_1 (Dense)                (None, 3)            51          ['dropout_37[0][0]']             \n",
      "                                                                                                  \n",
      "==================================================================================================\n",
      "Total params: 109,494,595\n",
      "Trainable params: 109,494,595\n",
      "Non-trainable params: 0\n",
      "__________________________________________________________________________________________________\n"
     ]
    }
   ],
   "source": [
    "print(\"Architettura di rete generale impiegata:\\n\")\n",
    "model.summary()"
   ]
  },
  {
   "cell_type": "markdown",
   "id": "b223b94b",
   "metadata": {},
   "source": [
    "Vado ad effettuare il __training__ del modello ottenuto:"
   ]
  },
  {
   "cell_type": "code",
   "execution_count": 19,
   "id": "9a269cd7",
   "metadata": {},
   "outputs": [
    {
     "name": "stdout",
     "output_type": "stream",
     "text": [
      "Caricamento pesi del modello...\n",
      "Caricamento avvenuto con successo!\n"
     ]
    }
   ],
   "source": [
    "exists = os.path.isfile(os.path.join(DUMP_DIR, 'model_appendice.hist'))\n",
    "if exists:\n",
    "    print('Caricamento pesi del modello...')\n",
    "    with open(os.path.join(DUMP_DIR, 'model_appendice.hist'), 'rb') as hist_file:\n",
    "        hd_appendice = pickle.load(hist_file)\n",
    "    model.load_weights(os.path.join(DUMP_DIR, 'model_appendice_w'))\n",
    "    print('Caricamento avvenuto con successo!')\n",
    "else:\n",
    "    history = model.fit([x_train_ids,x_train_masks], \n",
    "                        y_train,\n",
    "                        validation_data=([x_valid_ids,x_valid_masks], y_valid), \n",
    "                        epochs=EPOCHS, \n",
    "                        batch_size=16\n",
    "                       )\n",
    "    hd = history.history\n",
    "    with open(os.path.join(DUMP_DIR, 'model_appendice.hist'), 'wb') as hist_file:\n",
    "        pickle.dump(hd, hist_file)\n",
    "    model.save_weights(os.path.join(DUMP_DIR, 'model_appendice_w'))"
   ]
  },
  {
   "cell_type": "code",
   "execution_count": 20,
   "id": "4f40c7ec",
   "metadata": {},
   "outputs": [
    {
     "data": {
      "image/png": "[encoded data removed]",
      "text/plain": [
       "<Figure size 720x504 with 2 Axes>"
      ]
     },
     "metadata": {},
     "output_type": "display_data"
    }
   ],
   "source": [
    "hist_plot(hd_appendice, title='Dataset Completo')"
   ]
  },
  {
   "cell_type": "markdown",
   "id": "07f32fec",
   "metadata": {},
   "source": [
    "Vado ad effettuare il __testing__ del modello ottenuto:"
   ]
  },
  {
   "cell_type": "code",
   "execution_count": 21,
   "id": "f02fe350",
   "metadata": {},
   "outputs": [
    {
     "name": "stdout",
     "output_type": "stream",
     "text": [
      "94/94 [==============================] - 29s 271ms/step\n"
     ]
    }
   ],
   "source": [
    "result = model.predict([x_test_ids, x_test_masks])"
   ]
  },
  {
   "cell_type": "code",
   "execution_count": 22,
   "id": "a4c790a4",
   "metadata": {},
   "outputs": [],
   "source": [
    "y_pred =  np.zeros_like(result)\n",
    "y_pred[np.arange(len(y_pred)), result.argmax(1)] = 1"
   ]
  },
  {
   "cell_type": "code",
   "execution_count": 23,
   "id": "6c38d237",
   "metadata": {},
   "outputs": [
    {
     "name": "stdout",
     "output_type": "stream",
     "text": [
      "\t\tDataset Completo\n",
      "\n",
      "\tAccuracy achieved:\t 0.998\n",
      "\tClassification Report:\n",
      "\n",
      "               precision    recall  f1-score   support\n",
      "\n",
      "     emotion       1.00      1.00      1.00      1000\n",
      "        imdb       1.00      1.00      1.00      1000\n",
      "       tweet       1.00      1.00      1.00      1000\n",
      "\n",
      "   micro avg       1.00      1.00      1.00      3000\n",
      "   macro avg       1.00      1.00      1.00      3000\n",
      "weighted avg       1.00      1.00      1.00      3000\n",
      " samples avg       1.00      1.00      1.00      3000\n",
      "\n"
     ]
    }
   ],
   "source": [
    "print('\\t\\tDataset Completo\\n')\n",
    "print('\\tAccuracy achieved:\\t',np.round(accuracy_score(y_test, y_pred), 3))\n",
    "print('\\tClassification Report:\\n\\n',classification_report(y_test, y_pred, target_names=['emotion', 'imdb', 'tweet']))"
   ]
  },
  {
   "cell_type": "code",
   "execution_count": 24,
   "id": "dd7448e0",
   "metadata": {},
   "outputs": [
    {
     "data": {
      "image/png": "[encoded data removed]",
      "text/plain": [
       "<Figure size 432x432 with 1 Axes>"
      ]
     },
     "metadata": {},
     "output_type": "display_data"
    }
   ],
   "source": [
    "l = ['emotion', 'imdb', 'tweet']\n",
    "conf_matrix(y_test.argmax(1),y_pred.argmax(1), 'Dataset Completo\\nConfusion Matrix', l)"
   ]
  },
  {
   "cell_type": "code",
   "execution_count": null,
   "id": "6f60d9d2",
   "metadata": {},
   "outputs": [],
   "source": []
  }
 ],
 "metadata": {
  "kernelspec": {
   "display_name": "Python 3",
   "language": "python",
   "name": "python3"
  },
  "language_info": {
   "codemirror_mode": {
    "name": "ipython",
    "version": 3
   },
   "file_extension": ".py",
   "mimetype": "text/x-python",
   "name": "python",
   "nbconvert_exporter": "python",
   "pygments_lexer": "ipython3",
   "version": "3.7.10"
  }
 },
 "nbformat": 4,
 "nbformat_minor": 5
}
